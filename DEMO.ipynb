{
 "cells": [
  {
   "cell_type": "code",
   "execution_count": 29,
   "id": "62bbf494",
   "metadata": {},
   "outputs": [
    {
     "name": "stdout",
     "output_type": "stream",
     "text": [
      "Reading images: /mnt/f/nfts/substrapunks-master/scripts/face_parts\n",
      "NFTs will be saved to: /mnt/f/nfts/generated\n",
      "Generating 1000 images...\n",
      "Are all images unique? True\n",
      "{'Face': 'White', 'Ears': 'ears3', 'Eyes': 'focused', 'Hair': 'hair12', 'Mouth': 'm3', 'Nose': 'n1', 'tokenId': 0}\n",
      "{'White': 548, 'Black': 452}\n",
      "{'ears1': 289, 'ears2': 307, 'ears3': 377, 'ears4': 27}\n",
      "{'regular': 489, 'small': 169, 'rayban': 97, 'hipster': 25, 'focused': 220}\n",
      "{'hair1': 97, 'hair10': 91, 'hair11': 98, 'hair12': 107, 'hair2': 88, 'hair3': 86, 'hair4': 103, 'hair5': 98, 'hair6': 99, 'hair7': 82, 'hair8': 14, 'hair9': 37}\n",
      "{'m1': 150, 'm2': 142, 'm3': 317, 'm4': 140, 'm5': 174, 'm6': 77}\n",
      "{'n1': 797, 'n2': 203}\n"
     ]
    }
   ],
   "source": [
    "images_folder = \"/mnt/f/nfts/substrapunks-master/scripts/face_parts\"\n",
    "output_folder = \"/mnt/f/nfts/generated\"\n",
    "\n",
    "! python main.py --source $images_folder --output_folder $output_folder --no 1000"
   ]
  },
  {
   "cell_type": "code",
   "execution_count": null,
   "id": "5722b05b",
   "metadata": {},
   "outputs": [],
   "source": []
  }
 ],
 "metadata": {
  "kernelspec": {
   "display_name": "Python 3 (ipykernel)",
   "language": "python",
   "name": "python3"
  },
  "language_info": {
   "codemirror_mode": {
    "name": "ipython",
    "version": 3
   },
   "file_extension": ".py",
   "mimetype": "text/x-python",
   "name": "python",
   "nbconvert_exporter": "python",
   "pygments_lexer": "ipython3",
   "version": "3.7.11"
  }
 },
 "nbformat": 4,
 "nbformat_minor": 5
}
